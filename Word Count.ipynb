{
 "cells": [
  {
   "cell_type": "code",
   "execution_count": 1,
   "id": "41381b84",
   "metadata": {},
   "outputs": [],
   "source": [
    "# Yusuf Günay\n",
    "import time\n",
    "import findspark\n",
    "findspark.init()\n",
    "from pyspark import SparkConf\n",
    "from pyspark import SparkContext"
   ]
  },
  {
   "cell_type": "code",
   "execution_count": 2,
   "id": "eeb12b74",
   "metadata": {},
   "outputs": [],
   "source": [
    "conf=SparkConf().setMaster(\"local[*]\").setAppName(\"Yusuf Günay\")\n",
    "sc = SparkContext.getOrCreate(conf=conf)"
   ]
  },
  {
   "cell_type": "code",
   "execution_count": 3,
   "id": "0c378d59",
   "metadata": {},
   "outputs": [],
   "source": [
    "def normalize_text(line):\n",
    "    # Tüm harfleri küçük harfe dönüştürmeyi sağlar\n",
    "    line = line.lower()\n",
    "    # Noktalama işaretlerini ve rakamları kaldırır\n",
    "    line = ''.join(char for char in line if char.isalpha() or char.isspace())\n",
    "    # Boşlukları kaldırır\n",
    "    return line.strip()"
   ]
  },
  {
   "cell_type": "code",
   "execution_count": 4,
   "id": "2ca52897",
   "metadata": {},
   "outputs": [
    {
     "name": "stdout",
     "output_type": "stream",
     "text": [
      "Number of lines in the file: 1000000\n"
     ]
    }
   ],
   "source": [
    "rdd = sc.textFile(\"leipzig124MB.txt\")\n",
    "num_lines = rdd.count()\n",
    "print(\"Number of lines in the file:\", num_lines)"
   ]
  },
  {
   "cell_type": "code",
   "execution_count": 5,
   "id": "6f06d5dd",
   "metadata": {},
   "outputs": [],
   "source": [
    "# Metni normalize eder ve boş satırları kaldırır\n",
    "normalized_rdd = rdd.map(normalize_text).filter(lambda line: line != \"\")\n",
    "word_counts = normalized_rdd.flatMap(lambda line: line.split()).map(lambda word: (word, 1)).reduceByKey(lambda a, b: a + b)"
   ]
  },
  {
   "cell_type": "code",
   "execution_count": 6,
   "id": "67143b2b",
   "metadata": {},
   "outputs": [],
   "source": [
    "start_time = time.time()\n",
    "sorted_word_counts = word_counts.sortBy(lambda x: x[1], ascending=False)\n",
    "end_time = time.time()\n",
    "execution_time = end_time - start_time"
   ]
  },
  {
   "cell_type": "code",
   "execution_count": 7,
   "id": "0b0224c2",
   "metadata": {},
   "outputs": [
    {
     "name": "stdout",
     "output_type": "stream",
     "text": [
      "('the', 1370263)\n",
      "('of', 595835)\n",
      "('to', 566298)\n",
      "('a', 507768)\n",
      "('in', 473567)\n",
      "('and', 448469)\n",
      "('said', 215897)\n",
      "('for', 214759)\n",
      "('that', 202017)\n",
      "('is', 175755)\n",
      "Execution Time: 13.99541187286377 seconds\n"
     ]
    }
   ],
   "source": [
    "for pair in sorted_word_counts.take(10):\n",
    "    print(pair)\n",
    "print(\"Execution Time:\", execution_time, \"seconds\")"
   ]
  },
  {
   "cell_type": "code",
   "execution_count": 8,
   "id": "45cc9a2f",
   "metadata": {},
   "outputs": [],
   "source": [
    "# SparkContext'i kapatır\n",
    "sc.stop()"
   ]
  },
  {
   "cell_type": "code",
   "execution_count": null,
   "id": "d945e741",
   "metadata": {},
   "outputs": [],
   "source": []
  }
 ],
 "metadata": {
  "kernelspec": {
   "display_name": "Python 3 (ipykernel)",
   "language": "python",
   "name": "python3"
  },
  "language_info": {
   "codemirror_mode": {
    "name": "ipython",
    "version": 3
   },
   "file_extension": ".py",
   "mimetype": "text/x-python",
   "name": "python",
   "nbconvert_exporter": "python",
   "pygments_lexer": "ipython3",
   "version": "3.7.4"
  }
 },
 "nbformat": 4,
 "nbformat_minor": 5
}
